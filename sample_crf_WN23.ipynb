{
 "cells": [
  {
   "cell_type": "markdown",
   "metadata": {},
   "source": [
    "### Read data"
   ]
  },
  {
   "cell_type": "code",
   "execution_count": 1,
   "metadata": {},
   "outputs": [],
   "source": [
    "def read_file(f):\n",
    "    data = open(f,'r').readlines()[1:]\n",
    "    row_id = [i.split('\\t')[0].strip() for i in data]\n",
    "    data = [i.split('\\t')[1].strip().split(' ') for i in data]\n",
    "    return row_id,data"
   ]
  },
  {
   "cell_type": "code",
   "execution_count": 2,
   "metadata": {},
   "outputs": [],
   "source": [
    "row_id_text, texts = read_file('./review_data/REVIEW_TEXT.txt')\n",
    "row_id_tags, tags = read_file('./review_data/REVIEW_LABELSEQ.txt')\n",
    "\n",
    "\n",
    "\n"
   ]
  },
  {
   "cell_type": "markdown",
   "metadata": {},
   "source": [
    "### Two entities of interest -- AE (adverse events) and SSI (signs, symptoms, and indications).\n",
    "\n",
    "We use BIO scheme: \n",
    "\n",
    "     B- to denote beginning of a tagged named entity, \n",
    "     \n",
    "     I- to denote inside a tagged named entity tag, \n",
    "     \n",
    "     O to denote outside of any tagged named entity \n",
    "     \n",
    "So, your sequential labeling task has five tags: B-AE, I-AE, B-SSI, I-SSI, and O."
   ]
  },
  {
   "cell_type": "code",
   "execution_count": 3,
   "metadata": {},
   "outputs": [
    {
     "name": "stdout",
     "output_type": "stream",
     "text": [
      "num of data 4744\n",
      "-----------------------------------------------------------------------------------------\n",
      "Token\tTag\n",
      "I \t O\n",
      "had \t O\n",
      "terrible \t B-AE\n",
      "anxiety \t I-AE\n",
      "the \t I-AE\n",
      "whole \t I-AE\n",
      "time \t I-AE\n",
      ", \t O\n",
      "the \t B-AE\n",
      "worst \t I-AE\n",
      "kind \t I-AE\n",
      "of \t I-AE\n",
      "anxiety \t I-AE\n",
      "I've \t O\n",
      "ever \t O\n",
      "experienced. \t O\n"
     ]
    }
   ],
   "source": [
    "index = 5\n",
    "print('num of data', len(row_id_text))\n",
    "assert len(row_id_text) == len(row_id_tags)\n",
    "######## label dataset \n",
    "\n",
    "print('-'*89)\n",
    "print('Token\\tTag')\n",
    "for idx in range(len(texts[index])):\n",
    "    print(texts[index][idx], '\\t', tags[index][idx])"
   ]
  },
  {
   "cell_type": "code",
   "execution_count": 4,
   "metadata": {},
   "outputs": [
    {
     "name": "stdout",
     "output_type": "stream",
     "text": [
      "Token\tTag\n",
      "constipation \t B-AE\n",
      ", \t O\n",
      "drastic \t B-AE\n",
      "mood \t I-AE\n",
      "swings \t I-AE\n",
      ", \t O\n",
      "100% \t O\n",
      "helped \t O\n",
      "my \t O\n",
      "anxiety \t B-SSI\n",
      "and \t O\n",
      "panic \t B-SSI\n",
      ". \t O\n"
     ]
    }
   ],
   "source": [
    "index = 22\n",
    "print('Token\\tTag')\n",
    "for idx in range(len(texts[index])):\n",
    "    print(texts[index][idx], '\\t', tags[index][idx])"
   ]
  },
  {
   "cell_type": "markdown",
   "metadata": {},
   "source": [
    "### Inputs"
   ]
  },
  {
   "cell_type": "code",
   "execution_count": 5,
   "metadata": {},
   "outputs": [],
   "source": [
    "def word2features(word):\n",
    "    features = {\n",
    "        'word.lower()': word.lower(),  # \n",
    "        'word.isdigit()': word.isdigit(), \n",
    "        ## you can add more feature extractor here\n",
    "        # https://sklearn-crfsuite.readthedocs.io/en/latest/tutorial.html#features\n",
    "    }\n",
    "    return features\n",
    "\n",
    "def text2features(text):\n",
    "    return [word2features(i) for i in text]\n"
   ]
  },
  {
   "cell_type": "code",
   "execution_count": 6,
   "metadata": {},
   "outputs": [],
   "source": [
    "X = [text2features(text) for text in texts]\n",
    "y = tags"
   ]
  },
  {
   "cell_type": "markdown",
   "metadata": {},
   "source": [
    "### Train / Validation sets"
   ]
  },
  {
   "cell_type": "code",
   "execution_count": 7,
   "metadata": {},
   "outputs": [],
   "source": [
    "from sklearn.model_selection import train_test_split\n",
    "X_train, X_validation, y_train, y_validation = train_test_split(X, y, test_size = 0.2, random_state=42)"
   ]
  },
  {
   "cell_type": "markdown",
   "metadata": {},
   "source": [
    "### CRF model"
   ]
  },
  {
   "cell_type": "code",
   "execution_count": 8,
   "metadata": {},
   "outputs": [],
   "source": [
    "# https://sklearn-crfsuite.readthedocs.io/en/latest/\n",
    "from sklearn_crfsuite import CRF\n",
    "crf = CRF()"
   ]
  },
  {
   "cell_type": "markdown",
   "metadata": {},
   "source": [
    "### Training & Prediction"
   ]
  },
  {
   "cell_type": "code",
   "execution_count": 9,
   "metadata": {},
   "outputs": [],
   "source": [
    "crf.fit(X_train, y_train) # train step \n",
    "y_pred = crf.predict(X_validation) # inference step"
   ]
  },
  {
   "cell_type": "markdown",
   "metadata": {},
   "source": [
    "### Result"
   ]
  },
  {
   "cell_type": "code",
   "execution_count": 16,
   "metadata": {},
   "outputs": [
    {
     "name": "stdout",
     "output_type": "stream",
     "text": [
      "              precision    recall  f1-score   support\n",
      "\n",
      "        B-AE       0.67      0.50      0.57       752\n",
      "       B-SSI       0.77      0.55      0.64       168\n",
      "        I-AE       0.58      0.41      0.48      1485\n",
      "       I-SSI       0.25      0.06      0.10        66\n",
      "           O       0.90      0.96      0.93     11859\n",
      "\n",
      "    accuracy                           0.87     14330\n",
      "   macro avg       0.64      0.49      0.54     14330\n",
      "weighted avg       0.85      0.87      0.85     14330\n",
      "\n"
     ]
    }
   ],
   "source": [
    "from sklearn.metrics import classification_report\n",
    "y_val = [i for j in y_validation for i in j]\n",
    "y_p = [i for j in y_pred for i in j]\n",
    "\n",
    "report = classification_report(y_val, y_p)\n",
    "print(report)"
   ]
  },
  {
   "cell_type": "code",
   "execution_count": 17,
   "metadata": {},
   "outputs": [
    {
     "name": "stdout",
     "output_type": "stream",
     "text": [
      "              precision    recall  f1-score   support\n",
      "\n",
      "        B-AE       0.67      0.50      0.57       752\n",
      "       B-SSI       0.77      0.55      0.64       168\n",
      "        I-AE       0.58      0.41      0.48      1485\n",
      "       I-SSI       0.25      0.06      0.10        66\n",
      "           O       0.90      0.96      0.93     11859\n",
      "\n",
      "    accuracy                           0.87     14330\n",
      "   macro avg       0.64      0.49      0.54     14330\n",
      "weighted avg       0.85      0.87      0.85     14330\n",
      "\n"
     ]
    }
   ],
   "source": [
    "# find instruction of hyperparameters here :https://sklearn-crfsuite.readthedocs.io/en/latest/api.html\n",
    "\n",
    "crf = CRF(\n",
    "        algorithm='lbfgs', # Gradient descent using the L-BFGS method\n",
    "        c1=0.2, # The coefficient for L1 regularization.\n",
    "        c2=0.2,  # The coefficient for L1 regularization.\n",
    "        max_iterations=50,\n",
    "        all_possible_transitions=True\n",
    "    )\n",
    "\n",
    "crf.fit(X_train, y_train) # train step \n",
    "y_pred = crf.predict(X_validation) # inference step\n",
    "report = classification_report(y_val, y_p)\n",
    "print(report)"
   ]
  },
  {
   "cell_type": "code",
   "execution_count": null,
   "metadata": {},
   "outputs": [],
   "source": []
  }
 ],
 "metadata": {
  "kernelspec": {
   "display_name": "Python 3 (ipykernel)",
   "language": "python",
   "name": "python3"
  },
  "language_info": {
   "codemirror_mode": {
    "name": "ipython",
    "version": 3
   },
   "file_extension": ".py",
   "mimetype": "text/x-python",
   "name": "python",
   "nbconvert_exporter": "python",
   "pygments_lexer": "ipython3",
   "version": "3.7.9"
  }
 },
 "nbformat": 4,
 "nbformat_minor": 2
}
